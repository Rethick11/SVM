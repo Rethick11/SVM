{
  "nbformat": 4,
  "nbformat_minor": 0,
  "metadata": {
    "colab": {
      "name": "SVM_from_scratch.ipynb",
      "provenance": []
    },
    "kernelspec": {
      "name": "python3",
      "display_name": "Python 3"
    }
  },
  "cells": [
    {
      "cell_type": "markdown",
      "metadata": {
        "id": "RwZPg26MeFK2",
        "colab_type": "text"
      },
      "source": [
        "**1.) Importing the libraries**"
      ]
    },
    {
      "cell_type": "code",
      "metadata": {
        "id": "nkx82zWrR_eR",
        "colab_type": "code",
        "colab": {
          "base_uri": "https://localhost:8080/",
          "height": 34
        },
        "outputId": "26f793a2-e41e-4d3c-9507-d4a248d936f9"
      },
      "source": [
        "import numpy as np\n",
        "from sklearn.datasets import load_iris\n",
        "data = load_iris()\n",
        "data.target_names"
      ],
      "execution_count": 41,
      "outputs": [
        {
          "output_type": "execute_result",
          "data": {
            "text/plain": [
              "array(['setosa', 'versicolor', 'virginica'], dtype='<U10')"
            ]
          },
          "metadata": {
            "tags": []
          },
          "execution_count": 41
        }
      ]
    },
    {
      "cell_type": "markdown",
      "metadata": {
        "id": "LirYs3BAW-ZB",
        "colab_type": "text"
      },
      "source": [
        "**2.) DATA SPLITING**\n",
        "   we are taking last two columns of X from iris dataset\n",
        "   for y classifying virginica from others\n",
        "\n"
      ]
    },
    {
      "cell_type": "code",
      "metadata": {
        "id": "lemzenohSmzk",
        "colab_type": "code",
        "colab": {}
      },
      "source": [
        "X = data['data'][:,2:]\n",
        "y = (data[\"target\"] == 2).astype(np.float64).reshape(-1,1)\n"
      ],
      "execution_count": 19,
      "outputs": []
    },
    {
      "cell_type": "markdown",
      "metadata": {
        "id": "u4sRXm_XcY0f",
        "colab_type": "text"
      },
      "source": [
        "**3.)Algorithm**\n",
        "\n",
        "\n",
        "\n",
        "1.   L = |w|^2 /2 - sum(c[(w.X+b)* y -1])\n",
        "2.   differentiate L with respect to w =>  w - sum(C* X * y) \n",
        "3.   differentiate L with respect to b => - sum(C * y) \n",
        "4. for both cases the (w.X+b)* y < 1  must be true because we should classify    only the mi-sclassified data points."
      ]
    },
    {
      "cell_type": "code",
      "metadata": {
        "id": "Tj-A33UfUGKG",
        "colab_type": "code",
        "colab": {
          "base_uri": "https://localhost:8080/",
          "height": 50
        },
        "outputId": "9b0b044e-5a80-4e38-ad93-5350deab4da9"
      },
      "source": [
        "class RETSVM:\n",
        "  def __init__(self, epoches=60000, C=2, lr = 10 ,random_state = 2):\n",
        "    self.epoches = epoches\n",
        "    self.C = C\n",
        "    self.lr = lr\n",
        "    self.random_state = random_state\n",
        "\n",
        "  def fit(self,X,y):    \n",
        "    self.X = X    \n",
        "    self.y = y\n",
        "\n",
        "  def lrtrimmer(self,count):\n",
        "    return self.lr / (count + 1000)\n",
        "\n",
        "  def train(self): \n",
        "    if self.random_state:\n",
        "      np.random.seed(self.random_state)\n",
        "    w = np.array([[0],[0]])\n",
        "    b = 0\n",
        "    \n",
        "    y = self.y*2 - 1  # changing -1 for 0's and 1 for 1's \n",
        "    X =  self.X\n",
        "\n",
        "    for ep in range(self.epoches):        \n",
        "      to_change_points = (np.dot(y*X , w) + y * b < 1).ravel() # splitting the indexes of the points  which are misclassified\n",
        "      X_toChange = X[to_change_points] # applying those indexes to the X and Y values for filtering\n",
        "      y_toChange = y[to_change_points]\n",
        "\n",
        "\n",
        "      w_derivative = w - self.C*np.sum(X_toChange*y_toChange,axis=0).reshape(-1,1) # calculating derivatives for respect to w,b\n",
        "      b_derivative = -self.C*np.sum(y_toChange)\n",
        "        \n",
        "      w = w - self.lrtrimmer(ep)*w_derivative # learning rate is minimized for every itreations \n",
        "      b = b - self.lrtrimmer(ep)*b_derivative\n",
        "\n",
        "    self.coefficients = w\n",
        "    self.intercept = b\n",
        "    return self\n",
        "\n",
        "  def predict(self,X):\n",
        "    return (X.dot(self.coefficients) + self.intercept > 0).astype(np.float64)\n",
        "     \n",
        "my_svm_clf = RETSVM(epoches = 100000 ,C=1,lr=10,random_state=2)\n",
        "my_svm_clf.fit(X,y)\n",
        "my_svm_clf.train()\n",
        "\n",
        "\n",
        "print(my_svm_clf.intercept , my_svm_clf.coefficients)\n",
        "\n"
      ],
      "execution_count": 40,
      "outputs": [
        {
          "output_type": "stream",
          "text": [
            "-14.360737837504225 [[2.17092238]\n",
            " [2.25889228]]\n"
          ],
          "name": "stdout"
        }
      ]
    },
    {
      "cell_type": "markdown",
      "metadata": {
        "id": "CllDZacCc3z_",
        "colab_type": "text"
      },
      "source": [
        "**4**.) **Comparision** \n",
        "\n",
        "  both RETSVM and SVC calculated similar results."
      ]
    },
    {
      "cell_type": "code",
      "metadata": {
        "id": "g2Tn8cyyVRTS",
        "colab_type": "code",
        "colab": {
          "base_uri": "https://localhost:8080/",
          "height": 87
        },
        "outputId": "b56bf25a-2fa2-4994-e9ea-74dcedccc699"
      },
      "source": [
        "from sklearn.svm import SVC\n",
        "\n",
        "clf = SVC(kernel=\"linear\" ,C=1)\n",
        "clf.fit(X,y)\n",
        "\n",
        "print(clf.intercept_ , clf.coef_)"
      ],
      "execution_count": 38,
      "outputs": [
        {
          "output_type": "stream",
          "text": [
            "[-14.41486828] [[2.1829247  2.25365588]]\n"
          ],
          "name": "stdout"
        },
        {
          "output_type": "stream",
          "text": [
            "/usr/local/lib/python3.6/dist-packages/sklearn/utils/validation.py:760: DataConversionWarning: A column-vector y was passed when a 1d array was expected. Please change the shape of y to (n_samples, ), for example using ravel().\n",
            "  y = column_or_1d(y, warn=True)\n"
          ],
          "name": "stderr"
        }
      ]
    },
    {
      "cell_type": "markdown",
      "metadata": {
        "id": "0oEWYudVdTox",
        "colab_type": "text"
      },
      "source": [
        "**5.) Thanks to**\n",
        "\n",
        "\n",
        "*   Alexandre KOWALCZYK(https://www.svm-tutorial.com/)\n",
        "*   Aurelie Geron (hands on machine learning with scikit-learn and tensorflow)\n",
        "\n",
        "  for teaching me the concepts\n",
        "\n"
      ]
    }
  ]
}